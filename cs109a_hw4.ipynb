{
 "cells": [
  {
   "cell_type": "markdown",
   "metadata": {},
   "source": [
    "# CS 109A/STAT 121A/AC 209A/CSCI E-109A: Homework 4\n",
    "# Regularization, High Dimensionality, PCA\n",
    "\n",
    "\n",
    "**Harvard University**<br/>\n",
    "**Fall 2017**<br/>\n",
    "**Instructors**: Pavlos Protopapas, Kevin Rader, Rahul Dave, Margo Levine\n",
    "\n",
    "---\n",
    "\n",
    "### INSTRUCTIONS\n",
    "\n",
    "- To submit your assignment follow the instructions given in canvas.\n",
    "- Restart the kernel and run the whole notebook again before you submit. \n",
    "- Do not include your name(s) in the notebook even if you are submitting as a group. \n",
    "- If you submit individually and you have worked with someone, please include the name of your [one] partner below. \n",
    "\n",
    "---"
   ]
  },
  {
   "cell_type": "markdown",
   "metadata": {},
   "source": [
    "Your partner's name (if you submit separately):\n",
    "\n",
    "Enrollment Status (109A, 121A, 209A, or E109A):"
   ]
  },
  {
   "cell_type": "markdown",
   "metadata": {},
   "source": [
    "Import libraries:"
   ]
  },
  {
   "cell_type": "code",
   "execution_count": 23,
   "metadata": {},
   "outputs": [],
   "source": [
    "import numpy as np\n",
    "import pandas as pd\n",
    "import matplotlib\n",
    "import matplotlib.pyplot as plt\n",
    "from sklearn.metrics import r2_score\n",
    "import statsmodels.api as sm\n",
    "from statsmodels.api import OLS\n",
    "from sklearn.preprocessing import PolynomialFeatures\n",
    "from sklearn.preprocessing import MinMaxScaler\n",
    "from sklearn.linear_model import Ridge\n",
    "from sklearn.linear_model import Lasso\n",
    "from sklearn.linear_model import RidgeCV\n",
    "from sklearn.linear_model import LassoCV\n",
    "%matplotlib inline"
   ]
  },
  {
   "cell_type": "markdown",
   "metadata": {},
   "source": [
    "# Continuing Bike Sharing Usage Data\n",
    "\n",
    "In this homework, we will focus on multiple linear regression, regularization, dealing with high dimensionality, and PCA. We will continue to build regression models for the Capital Bikeshare program in Washington D.C.  See Homework 3 for more information about the data.\n",
    "\n",
    "*Note: please make sure you use all the processed data from HW 3 Part (a)...you make want to save the data set on your computer and reread the csv/json file here.\n"
   ]
  },
  {
   "cell_type": "markdown",
   "metadata": {},
   "source": [
    "## Part (f): Regularization/Penalization Methods\n",
    "\n",
    "As an alternative to selecting a subset of predictors and fitting a regression model on the subset, one can fit a linear regression model on all predictors, but shrink or regularize the coefficient estimates to make sure that the model does not \"overfit\" the training set. \n",
    "\n",
    "Use the following regularization techniques to fit linear models to the training set:\n",
    "- Ridge regression\n",
    "- Lasso regression\n",
    "    \n",
    "You may choose the shrikage parameter $\\lambda$ from the set $\\{10^{-5}, 10^{-4},...,10^{4},10^{5}\\}$ using cross-validation. In each case, \n",
    "\n",
    "- How do the estimated coefficients compare to or differ from the coefficients estimated by a plain linear regression (without shrikage penalty) in Part (b) fropm HW 3? Is there a difference between coefficients estimated by the two shrinkage methods? If so, give an explantion for the difference.\n",
    "- List the predictors that are assigned a coefficient value close to 0 (say < 1e-10) by the two methods. How closely do these predictors match the redundant predictors (if any) identified in Part (c) from HW 3?\n",
    "- Is there a difference in the way Ridge and Lasso regression assign coefficients to the predictors `temp` and `atemp`? If so, explain the reason for the difference.\n",
    "\n",
    "We next analyze the performance of the two shrinkage methods for different training sample sizes:\n",
    "- Generate random samples of sizes 100, 150, ..., 400 from the training set. You may use the following code to draw a random sample of a specified size from the training set:"
   ]
  },
  {
   "cell_type": "code",
   "execution_count": 9,
   "metadata": {
    "collapsed": true
   },
   "outputs": [],
   "source": [
    "#--------  sample\n",
    "# A function to select a random sample of size k from the training set\n",
    "# Input: \n",
    "#      x (n x d array of predictors in training data)\n",
    "#      y (n x 1 array of response variable vals in training data)\n",
    "#      k (size of sample) \n",
    "# Return: \n",
    "#      chosen sample of predictors and responses\n",
    "\n",
    "def sample(x, y, k):\n",
    "    n = x.shape[0] # No. of training points\n",
    "    \n",
    "    # Choose random indices of size 'k'\n",
    "    subset_ind = np.random.choice(np.arange(n), k)\n",
    "    \n",
    "    # Get predictors and reponses with the indices\n",
    "    x_subset = x[subset_ind, :]\n",
    "    y_subset = y[subset_ind]\n",
    "    \n",
    "    return (x_subset, y_subset)\n"
   ]
  },
  {
   "cell_type": "markdown",
   "metadata": {},
   "source": [
    "- Fit linear, Ridge and Lasso regression models to each of the generated sample. In each case, compute the $R^2$ score for the model on the training sample on which it was fitted, and on the test set.\n",
    "- Repeat the above experiment for 10 random trials/splits, and compute the average train and test $R^2$ across the trials for each training sample size. Also, compute the standard deviation (SD) in each case.\n",
    "- Make a plot of the mean training $R^2$ scores for the linear, Ridge and Lasso regression methods as a function of the training sample size. Also, show a confidence interval for the mean scores extending from **mean - SD** to **mean + SD**. Make a similar plot for the test $R^2$ scores.\n",
    "\n",
    "How do the training and test $R^2$ scores compare for the three methods? Give an explanation for your observations. How do the confidence intervals for the estimated $R^2$ change with training sample size? Based on the plots, which of the three methods would you recommend when one needs to fit a regression model using a small training sample?\n",
    "\n",
    "*Hint:* You may use `sklearn`'s `RidgeCV` and `LassoCV` classes to implement Ridge and Lasso regression. These classes automatically perform cross-validation to tune the parameter $\\lambda$ from a given range of values. You may use the `plt.errorbar` function to plot confidence bars for the average $R^2$ scores."
   ]
  },
  {
   "cell_type": "markdown",
   "metadata": {},
   "source": [
    "### Solution"
   ]
  },
  {
   "cell_type": "code",
   "execution_count": 17,
   "metadata": {
    "collapsed": true
   },
   "outputs": [],
   "source": [
    "# Loading the bike dataset\n",
    "bike_train = pd.read_csv('Bikeshare_train.csv').drop('Unnamed: 0',axis=1)\n",
    "bike_test = pd.read_csv('Bikeshare_test.csv').drop('Unnamed: 0',axis=1)\n",
    "\n",
    "# Transforms the categoricals variables in binary ones by dummies operation \n",
    "categorical_columns_g2cols = ['season', 'month', 'day_of_week', 'weather']\n",
    "bike_train = pd.get_dummies(bike_train,columns=categorical_columns_g2cols,drop_first=True)\n",
    "bike_test = pd.get_dummies(bike_test,columns=categorical_columns_g2cols,drop_first=True)\n",
    "\n",
    "# Normalizes the continues variables\n",
    "mean = bike_train['count'].mean()\n",
    "std = bike_train['count'].std()\n",
    "bike_train['count'] = (bike_train['count']-mean)/std\n",
    "bike_test['count'] = (bike_test['count']-mean)/std\n"
   ]
  },
  {
   "cell_type": "markdown",
   "metadata": {},
   "source": [
    "Use the following regularization techniques to fit linear models to the training set:\n",
    "- Ridge regression\n",
    "- Lasso regression\n",
    "    \n",
    "You may choose the shrikage parameter $\\lambda$ from the set $\\{10^{-5}, 10^{-4},...,10^{4},10^{5}\\}$ using cross-validation. In each case, \n",
    "\n"
   ]
  },
  {
   "cell_type": "code",
   "execution_count": 59,
   "metadata": {
    "collapsed": true
   },
   "outputs": [],
   "source": [
    "from sklearn.model_selection import KFold\n",
    "\n",
    "# Sample the data\n",
    "def sample_data(sample):\n",
    "    n = bike_train.shape[0]\n",
    "    random_index =  np.random.choice(np.arange(n),sample)\n",
    "\n",
    "    train_sub = bike_train.iloc[random_index]\n",
    "    y_train_sub = train_sub['count'].values.reshape(-1,1)\n",
    "    train_sub = train_sub.drop('count',axis = 1)\n",
    "    \n",
    "    Xtest = bike_test.drop('count',axis=1)\n",
    "    ytest = bike_test['count'].values.reshape(-1,1)\n",
    "    return train_sub,Xtest,y_train_sub,ytest\n",
    "\n",
    "def select_lambda(model,train_sub,y_train_sub):\n",
    "    n_folds = 5\n",
    "    splits = train_sub.shape[0]\n",
    "    kfold = KFold(n_folds,shuffle=False).split(range(splits))\n",
    "\n",
    "    scores = []\n",
    "    for f_train,f_valid in kfold:\n",
    "        ktrain = train_sub.values[f_train]\n",
    "        kvalid = train_sub.values[f_valid]    \n",
    "        \n",
    "        ky_train = y_train_sub[f_train]\n",
    "        ky_valid = y_train_sub[f_valid]   \n",
    "        score = []\n",
    "        for lamb in lambdas:\n",
    "            rid_model = model(alpha = lamb)\n",
    "            rid_model.fit(ktrain,ky_train)\n",
    "            y_pred = rid_model.predict(kvalid)\n",
    "            score.append(r2_score(ky_valid,y_pred))\n",
    "        scores.append(score)\n",
    "            \n",
    "    valid_score = np.array(scores).mean(axis=0)\n",
    "    cvstd = np.array(scores).std(axis=0)\n",
    "    beststd = cvstd[np.argmax(valid_score)]\n",
    "    best_lambd = lambdas[np.argmax(valid_score)]\n",
    "    return valid_score,best_lambd,beststd\n",
    "\n"
   ]
  },
  {
   "cell_type": "code",
   "execution_count": 65,
   "metadata": {},
   "outputs": [
    {
     "name": "stderr",
     "output_type": "stream",
     "text": [
      "C:\\Users\\Lira\\Anaconda3\\lib\\site-packages\\sklearn\\linear_model\\coordinate_descent.py:484: ConvergenceWarning: Objective did not converge. You might want to increase the number of iterations. Fitting data with very small alpha may cause precision problems.\n",
      "  ConvergenceWarning)\n"
     ]
    },
    {
     "name": "stdout",
     "output_type": "stream",
     "text": [
      "Ridge Train Score:  0.572729580884\n",
      "Ridge CV interval:0.35422444803-0.633626299377\n",
      "Ridge Test Score:  0.186300864401\n",
      "\n",
      "Lasso Train Score:  0.553408763148\n",
      "Lasso CV interval:0.337123904978-0.632339078546\n",
      "Lasso Test Score:  0.21361519113\n"
     ]
    },
    {
     "data": {
      "image/png": "[encoded data removed]",
      "text/plain": [
       "<matplotlib.figure.Figure at 0x1e4941e8940>"
      ]
     },
     "metadata": {},
     "output_type": "display_data"
    }
   ],
   "source": [
    "# Select the best lambda and fits the models\n",
    "\n",
    "lambdas = [10**i for i in range(-5,6)]\n",
    "train_sub,Xtest,y_train_sub,y_test = sample_data(400)\n",
    "\n",
    "ridge_valid_score,ridge_best_lambda,rcv_std = select_lambda(Ridge,train_sub,y_train_sub)\n",
    "lasso_valid_score,lasso_best_lambda,lcv_std = select_lambda(Lasso,train_sub,y_train_sub)\n",
    "\n",
    "ridge_model = Ridge(alpha=ridge_best_lambda)\n",
    "ridge_model.fit(train_sub,y_train_sub)\n",
    "train_score = r2_score(y_train_sub,ridge_model.predict(train_sub))\n",
    "test_score = r2_score(y_test,ridge_model.predict(Xtest))\n",
    "print('Ridge Train Score: ',train_score)\n",
    "#print('Ridge CV Score: ',np.max(ridge_valid_score) )\n",
    "print('Ridge CV interval:'+str(np.max(ridge_valid_score)-2*rcv_std)+\"-\"+str(np.max(ridge_valid_score)+2*rcv_std))\n",
    "print('Ridge Test Score: ',test_score)\n",
    "print('')\n",
    "\n",
    "lasso_model = Lasso(alpha=lasso_best_lambda)\n",
    "lasso_model.fit(train_sub,y_train_sub)\n",
    "train_score = r2_score(y_train_sub,lasso_model.predict(train_sub))\n",
    "test_score = r2_score(y_test,lasso_model.predict(Xtest))\n",
    "print('Lasso Train Score: ',train_score)\n",
    "print('Lasso CV interval:'+str(np.max(lasso_valid_score)-2*lcv_std)+\"-\"+str(np.max(lasso_valid_score)+2*lcv_std))\n",
    "print('Lasso Test Score: ',test_score)\n",
    "\n",
    "ltrain_score = []\n",
    "ltest_score = []\n",
    "rtrain_score = []\n",
    "rtest_score = []\n",
    "for lambd in lambdas:\n",
    "    lmodel = Lasso(alpha=lambd)\n",
    "    lmodel.fit(train_sub,y_train_sub)\n",
    "    ltrain_pred = lmodel.predict(train_sub)\n",
    "    ltrain_score.append(r2_score(y_train_sub,ltrain_pred))    \n",
    "    ltest_pred = lmodel.predict(Xtest)\n",
    "    ltest_score.append(r2_score(y_test,ltest_pred))\n",
    "    \n",
    "    rmodel = Ridge(alpha=lambd)\n",
    "    rmodel.fit(train_sub,y_train_sub)\n",
    "    rtrain_pred = rmodel.predict(train_sub)\n",
    "    rtrain_score.append(r2_score(y_train_sub,rtrain_pred))    \n",
    "    rtest_pred = rmodel.predict(Xtest)\n",
    "    rtest_score.append(r2_score(y_test,rtest_pred))\n",
    "    \n",
    "\n",
    "fig,ax= plt.subplots(1,2,figsize=(15,5))\n",
    "ax[0].plot(np.log10(lambdas),ltest_score,'s-',label='Test Set')\n",
    "ax[0].plot(np.log10(lambdas),ltrain_score,'s-',label='Train Set')\n",
    "ax[0].plot(np.log10(lambdas),lasso_valid_score,'s-',label='CV')\n",
    "ax[0].axvline(np.log10(lasso_best_lambda),max(lasso_valid_score),label='Lasso Best Lambda')\n",
    "ax[0].set_xlabel('$Lamda$[log scale]')\n",
    "ax[0].set_ylabel('$R_2$')\n",
    "ax[0].legend(loc='best')\n",
    "ax[0].grid(True)\n",
    "\n",
    "ax[1].plot(np.log10(lambdas),rtest_score,'s-',label='Test Set')\n",
    "ax[1].plot(np.log10(lambdas),rtrain_score,'s-',label='Train Set')\n",
    "ax[1].plot(np.log10(lambdas),ridge_valid_score,'s-',label='CV')\n",
    "ax[1].axvline(np.log10(ridge_best_lambda),max(ridge_valid_score),c='k',alpha=0.5,label='Ridge Best Lambda')\n",
    "ax[1].legend(loc='best')\n",
    "ax[1].grid(True)"
   ]
  },
  {
   "cell_type": "markdown",
   "metadata": {},
   "source": [
    "We next analyze the performance of the two shrinkage methods for different training sample sizes:\n",
    "- Generate random samples of sizes 100, 150, ..., 400 from the training set. You may use the following code to draw a random sample of a specified size from the training set:\n",
    "- Fit linear, Ridge and Lasso regression models to each of the generated sample. In each case, compute the $R^2$ score for the model on the training sample on which it was fitted, and on the test set.\n"
   ]
  },
  {
   "cell_type": "code",
   "execution_count": 98,
   "metadata": {},
   "outputs": [
    {
     "name": "stderr",
     "output_type": "stream",
     "text": [
      "C:\\Users\\Lira\\Anaconda3\\lib\\site-packages\\sklearn\\linear_model\\coordinate_descent.py:484: ConvergenceWarning: Objective did not converge. You might want to increase the number of iterations. Fitting data with very small alpha may cause precision problems.\n",
      "  ConvergenceWarning)\n"
     ]
    },
    {
     "data": {
      "text/plain": [
       "{'test': [0.15558922608149273,\n",
       "  0.16274624535414683,\n",
       "  0.24324326811240837,\n",
       "  0.21430433282363526],\n",
       " 'train': [0.67617741891550875,\n",
       "  0.67011023315556828,\n",
       "  0.54770734592522308,\n",
       "  0.53494143938609806]}"
      ]
     },
     "execution_count": 98,
     "metadata": {},
     "output_type": "execute_result"
    }
   ],
   "source": [
    "samples = [100,200,300,400]\n",
    "\n",
    "ridge_score = {'train':[],'test':[]}\n",
    "lasso_score = {'train':[],'test':[]}\n",
    "linear_score = {'train':[],'test':[]}\n",
    "    \n",
    "\n",
    "for sample in samples:\n",
    "    train_sub,Xtest,y_train_sub,y_test = sample_data(sample)    \n",
    "    ridge_valid_score,ridge_best_lambda,std = select_lambda(Ridge,train_sub,y_train_sub)\n",
    "    lasso_valid_score,lasso_best_lambda,std = select_lambda(Lasso,train_sub,y_train_sub)    \n",
    "        \n",
    "    linear_model = OLS(endog=y_train_sub,exog=train_sub)\n",
    "    results = linear_model.fit()    \n",
    "    linear_train_pred = results.predict()\n",
    "    linear_test_pred = results.predict(Xtest)\n",
    "    linear_score['train'].append(r2_score(y_train_sub,linear_train_pred))\n",
    "    linear_score['test'].append(r2_score(y_test,linear_test_pred))\n",
    "    \n",
    "    ridge_model = Ridge(alpha=ridge_best_lambda)\n",
    "    ridge_model.fit(train_sub,y_train_sub)\n",
    "    ridge_train_pred = ridge_model.predict(train_sub)\n",
    "    ridge_test_pred = ridge_model.predict(Xtest)\n",
    "    ridge_score['train'].append(r2_score(y_train_sub,ridge_train_pred))\n",
    "    ridge_score['test'].append(r2_score(y_test,ridge_test_pred))\n",
    "\n",
    "    lasso_model = Lasso(alpha=lasso_best_lambda)\n",
    "    lasso_model.fit(train_sub,y_train_sub)\n",
    "    lasso_train_pred = lasso_model.predict(train_sub)\n",
    "    lasso_test_pred = lasso_model.predict(Xtest)\n",
    "    lasso_score['train'].append(r2_score(y_train_sub,lasso_train_pred))\n",
    "    lasso_score['test'].append(r2_score(y_test,lasso_test_pred))\n",
    "lasso_score        "
   ]
  },
  {
   "cell_type": "markdown",
   "metadata": {},
   "source": [
    "- Repeat the above experiment for 10 random trials/splits, and compute the average train and test $R^2$ across the trials "
   ]
  },
  {
   "cell_type": "code",
   "execution_count": 93,
   "metadata": {
    "scrolled": true
   },
   "outputs": [
    {
     "name": "stderr",
     "output_type": "stream",
     "text": [
      "C:\\Users\\Lira\\Anaconda3\\lib\\site-packages\\sklearn\\linear_model\\coordinate_descent.py:484: ConvergenceWarning: Objective did not converge. You might want to increase the number of iterations. Fitting data with very small alpha may cause precision problems.\n",
      "  ConvergenceWarning)\n"
     ]
    }
   ],
   "source": [
    "samples = np.array([100,200,300,400])\n",
    "ridge = {'train':[],'test':[]}\n",
    "lasso = {'train':[],'test':[]}\n",
    "linear = {'train':[],'test':[]}\n",
    "\n",
    "for sample in samples:\n",
    "    \n",
    "    ridge_score = {'train':[],'test':[]}\n",
    "    lasso_score = {'train':[],'test':[]}\n",
    "    linear_score = {'train':[],'test':[]}\n",
    "    \n",
    "    for i in range(10):\n",
    "        train_sub,Xtest,y_train_sub,y_test = sample_data(sample)    \n",
    "        ridge_valid_score,ridge_best_lambda,std = select_lambda(Ridge,train_sub,y_train_sub)\n",
    "        lasso_valid_score,lasso_best_lambda,std = select_lambda(Lasso,train_sub,y_train_sub)\n",
    "    \n",
    "        linear_model = OLS(endog=y_train_sub,exog=train_sub)\n",
    "        results = linear_model.fit()    \n",
    "        linear_train_pred = results.predict()\n",
    "        linear_test_pred = results.predict(Xtest)\n",
    "        linear_score['train'].append(r2_score(y_train_sub,linear_train_pred))\n",
    "        linear_score['test'].append(r2_score(y_test,linear_test_pred))\n",
    "    \n",
    "        ridge_model = Ridge(alpha=ridge_best_lambda)\n",
    "        ridge_model.fit(train_sub,y_train_sub)\n",
    "        ridge_train_pred = ridge_model.predict(train_sub)\n",
    "        ridge_test_pred = ridge_model.predict(Xtest)\n",
    "        ridge_score['train'].append(r2_score(y_train_sub,ridge_train_pred))\n",
    "        ridge_score['test'].append(r2_score(y_test,ridge_test_pred))\n",
    "    \n",
    "        lasso_model = Lasso(alpha=lasso_best_lambda)\n",
    "        lasso_model.fit(train_sub,y_train_sub)\n",
    "        lasso_train_pred = lasso_model.predict(train_sub)\n",
    "        lasso_test_pred = lasso_model.predict(Xtest)\n",
    "        lasso_score['train'].append(r2_score(y_train_sub,lasso_train_pred))#r2_score(y_train_sub,lasso_train_pred))\n",
    "        lasso_score['test'].append(r2_score(y_test,lasso_test_pred))#r2_score(y_test,lasso_test_pred))\n",
    "        \n",
    "    linear['train'].append([np.mean(linear_score['train'],axis=0),np.std(linear_score['test'],axis=0)])\n",
    "    linear['test'].append([np.mean(linear_score['test'],axis=0),np.std(linear_score['test'],axis=0)])\n",
    "    \n",
    "    ridge['train'].append([np.mean(ridge_score['train'],axis=0),np.std(ridge_score['test'],axis=0)])\n",
    "    ridge['test'].append([np.mean(ridge_score['test'],axis=0),np.std(ridge_score['test'],axis=0)])\n",
    "    \n",
    "    lasso['train'].append([np.mean(lasso_score['train'],axis=0),np.std(lasso_score['test'],axis=0)])\n",
    "    lasso['test'].append([np.mean(lasso_score['test'],axis=0),np.std(lasso_score['test'],axis=0)])\n",
    "    \n",
    "    \n",
    "best_sample_lasso = samples[np.argmax(np.array(lasso['train'])[:,0])]\n",
    "best_sample_ridge= samples[np.argmax(np.array(ridge['train'])[:,0])]\n"
   ]
  },
  {
   "cell_type": "markdown",
   "metadata": {},
   "source": [
    "- Make a plot of the mean training $R^2$ scores for the linear, Ridge and Lasso regression methods as a function of the training sample size. Also, show a confidence interval for the mean scores extending from **mean - SD** to **mean + SD**. "
   ]
  },
  {
   "cell_type": "code",
   "execution_count": 94,
   "metadata": {},
   "outputs": [
    {
     "data": {
      "image/png": "[encoded data removed]",
      "text/plain": [
       "<matplotlib.figure.Figure at 0x1e491f6d940>"
      ]
     },
     "metadata": {},
     "output_type": "display_data"
    }
   ],
   "source": [
    "sets = ['train','test']\n",
    "mname = ['Ridge','Lasso','Linear']\n",
    "models = [ridge,lasso,linear]\n",
    "fig,axs = plt.subplots(3,1,figsize=(10,20))\n",
    "\n",
    "for i,model in enumerate(models):        \n",
    "    for data_set in sets:\n",
    "        data = np.array(model[data_set])\n",
    "        axs[i].plot(samples,data[:,0],'s-',label=data_set)\n",
    "        axs[i].fill_between(samples,data[:,0]-data[:,1],data[:,0]+data[:,1],alpha=0.3)\n",
    "        \n",
    "    axs[i].legend(loc='best')\n",
    "    axs[i].set_xlabel('Samples')\n",
    "    axs[i].set_ylabel('$R_2$')\n",
    "    #axs[i].set_ylim([0,1])\n",
    "    axs[i].grid(True)\n",
    "    axs[i].set_title(mname[i]+' '+'model')\n",
    "    \n",
    "    "
   ]
  },
  {
   "cell_type": "markdown",
   "metadata": {},
   "source": [
    "your answers here"
   ]
  },
  {
   "cell_type": "markdown",
   "metadata": {},
   "source": [
    "## Part (g): Polynomial & Interaction Terms\n",
    "\n",
    "Moving beyond linear models, we will now try to improve the performance of the regression model in Part (b) from HW 3 by including higher-order polynomial and interaction terms. \n",
    "\n",
    "- For each continuous predictor $X_j$, include additional polynomial terms $X^2_j$, $X^3_j$, and $X^4_j$, and fit a multiple regression model to the expanded training set. How does the $R^2$ of this model on the test set compare with that of the linear model fitted in Part (b) from HW 3? Using a t-test, find out which of estimated coefficients for the polynomial terms are statistically significant at a significance level of 5%. \n",
    "\n",
    "- Fit a multiple linear regression model with additional interaction terms $\\mathbb{I}_{month = 12} \\times temp$ and $\\mathbb{I}_{workingday = 1} \\times \\mathbb{I}_{weathersit = 1}$ and report the test $R^2$ for the fitted model. How does this compare with the $R^2$ obtained using linear model in Part (b) from HW 3? Are the estimated coefficients for the interaction terms statistically significant at a significance level of 5%?"
   ]
  },
  {
   "cell_type": "code",
   "execution_count": 111,
   "metadata": {},
   "outputs": [],
   "source": [
    "# your code here\n",
    "Xtrain,Xtest,y_train,y_test = sample_data(331)\n",
    "pol = PolynomialFeatures(4,interaction_only=False)\n",
    "\n",
    "\n",
    "numerical_columns = ['temp', 'atemp', 'humidity', 'windspeed']\n",
    "for col in (numerical_columns):\n",
    "    \n",
    "    new_cols = [str(col)+'_'+str(x) for x in np.arange(2,5)]\n",
    "    feat = Xtrain[col].values.reshape(-1,1)\n",
    "    \n",
    "    pol.fit(feat)    \n",
    "    pols = pol.transform(feat)[:,2:]       \n",
    "    \n",
    "    df = pd.DataFrame(data=pols,columns=new_cols)\n",
    "    Xtrain = Xtrain.join(df)\n",
    "    \n",
    "    feat = Xtest[col].values.reshape(-1,1)\n",
    "    pol.fit(Xtest[col].values.reshape(-1,1))    \n",
    "    pols = pol.transform(feat)[:,2:]       \n",
    "    df = pd.DataFrame(data=pols,columns=new_cols)\n",
    "    Xtest = Xtest.join(df)\n"
   ]
  },
  {
   "cell_type": "code",
   "execution_count": 16,
   "metadata": {
    "collapsed": true
   },
   "outputs": [],
   "source": [
    "def make_poly(columns,Xtrain,Xtest):\n",
    "    for col in columns:\n",
    "        for x in np.arange(4):\n",
    "            x+=1\n",
    "            Xtrain[col+'_'+str(x)] = Xtrain[col]**x\n",
    "            Xtest[col+'_'+str(x)] = Xtest[col]**x\n",
    "    return Xtrain,Xtest"
   ]
  },
  {
   "cell_type": "code",
   "execution_count": 116,
   "metadata": {},
   "outputs": [
    {
     "name": "stdout",
     "output_type": "stream",
     "text": [
      "OLS Train Score:  0.157171771568\n",
      "OLS Test Score:  0.0206450241492\n"
     ]
    },
    {
     "data": {
      "text/plain": [
       "holiday            0.034044\n",
       "workingday         0.339852\n",
       "temp               0.783949\n",
       "atemp              0.908997\n",
       "humidity           0.517687\n",
       "windspeed          0.531287\n",
       "season_2.0         0.991241\n",
       "season_3.0         0.492204\n",
       "season_4.0         0.035150\n",
       "month_2.0          0.888519\n",
       "month_3.0          0.953559\n",
       "month_4.0          0.064561\n",
       "month_5.0          0.503013\n",
       "month_6.0          0.706746\n",
       "month_7.0          0.632099\n",
       "month_8.0          0.775344\n",
       "month_9.0          0.976887\n",
       "month_10.0         0.622778\n",
       "month_11.0         0.978044\n",
       "month_12.0         0.962447\n",
       "day_of_week_1.0    0.598664\n",
       "day_of_week_2.0    0.216999\n",
       "day_of_week_3.0    0.081120\n",
       "day_of_week_4.0    0.182957\n",
       "day_of_week_5.0    0.569655\n",
       "day_of_week_6.0    0.396274\n",
       "weather_2.0        0.009978\n",
       "weather_3.0        0.033485\n",
       "temp_2             0.262517\n",
       "temp_3             0.312150\n",
       "temp_4             0.363951\n",
       "atemp_2            0.142958\n",
       "atemp_3            0.148964\n",
       "atemp_4            0.173209\n",
       "humidity_2         0.654955\n",
       "humidity_3         0.550022\n",
       "humidity_4         0.510377\n",
       "windspeed_2        0.376466\n",
       "windspeed_3        0.395876\n",
       "windspeed_4        0.405599\n",
       "dtype: float64"
      ]
     },
     "execution_count": 116,
     "metadata": {},
     "output_type": "execute_result"
    }
   ],
   "source": [
    "#Xtrain,Xtest,y_train,y_test = sample_data(331)\n",
    "Xtrain_poly = Xtrain\n",
    "Xtest_poly = Xtest\n",
    "\n",
    "model = OLS(y_train,Xtrain_poly).fit()\n",
    "\n",
    "train_pred = model.predict(Xtrain_poly)\n",
    "test_pred = model.predict(Xtest_poly)\n",
    "train_score = r2_score(y_train,train_pred)\n",
    "test_score = r2_score(y_test,test_pred)\n",
    "print('OLS Train Score: ',train_score)\n",
    "print('OLS Test Score: ',test_score)\n",
    "\n",
    "pvalues = model.pvalues\n",
    "pvalues"
   ]
  },
  {
   "cell_type": "markdown",
   "metadata": {},
   "source": [
    "## Part (h): PCA to deal with high dimensionality\n",
    "\n",
    "We would like to fit a model to include all main effects, polynomial terms up to the $4^{th}$ order, and all interactions between all possible predictors and polynomial terms (not including the interactions between $X^1_j$, $X^2_j$, $X^3_j$, and $X^4_j$ as they would just create higher order polynomial terms).  \n",
    "\n",
    "- Create an expanded training set including all the desired terms mentioned above.  What are the dimensions of this 'design matrix' of all the predictor variables?   What are the issues with attempting to fit a regression model using all of these predictors?\n",
    "\n",
    "- Instead of using the usual approaches for model selection, let's instead use principal components analysis (PCA) to fit the model.  First, create the principal component vectors in python (consider: should you normalize first?).  Then fit 5 different regression models: (1) using just the first PCA vector, (2) using the first two PCA vectors, (3) using the first three PCA vectors, etc...  Briefly summarize how these models compare in the training set.\n",
    "\n",
    "- Use the test set to decide which of the 5 models above is best to predict out of sample.  How does this model compare to the previous models you've fit?  What are the interpretations of this model's coefficients?"
   ]
  },
  {
   "cell_type": "code",
   "execution_count": 117,
   "metadata": {
    "collapsed": true
   },
   "outputs": [],
   "source": [
    "def make_interactions(Xtrain,Xtest):\n",
    "    \n",
    "    pol = PolynomialFeatures(2,interaction_only = True)\n",
    "    \n",
    "    Xtrain_int = pol.fit_transform(Xtrain)  \n",
    "    Xtest_int = pol.fit_transform(Xtest)    \n",
    "    col_names = pol.get_feature_names(Xtrain.columns)\n",
    "    \n",
    "    Xtrain_int= pd.DataFrame(data=Xtrain_int,columns=col_names)\n",
    "    Xtest_int = pd.DataFrame(data=Xtest_int,columns=col_names)\n",
    "    return Xtrain_int,Xtest_int\n",
    "\n",
    "def make_poly2(columns,Xtrain,Xtest):\n",
    "    Xtrain_poly = pd.DataFrame()\n",
    "    Xtest_poly = pd.DataFrame()\n",
    "    for col in columns:\n",
    "        for x in np.arange(4):\n",
    "            x+=1\n",
    "            Xtrain_poly[col+'_'+str(x)] = Xtrain[col]**x\n",
    "            Xtest_poly[col+'_'+str(x)] = Xtest[col]**x\n",
    "    return Xtrain_poly,Xtest_poly\n",
    "\n",
    "def gen_poly(columns,df,k):\n",
    "    model = PolynomialFeatures(k,include_bias=False)\n",
    "    df_all_poly = []\n",
    "    for column in columns:    \n",
    "        df_poly = df[column]\n",
    "        df_poly = model.fit_transform(df_poly.values.reshape(-1,1))\n",
    "        feature_names = model.get_feature_names([column])\n",
    "        df_poly = pd.DataFrame(data=df_poly[:,1:],columns=feature_names[1:])\n",
    "        df_all_poly.append(df_poly)\n",
    "    return df_all_poly"
   ]
  },
  {
   "cell_type": "code",
   "execution_count": 118,
   "metadata": {},
   "outputs": [
    {
     "name": "stdout",
     "output_type": "stream",
     "text": [
      "Linear Train Score: 0.101707303506\n",
      "Linear Test Score: 0.0992672503541\n",
      "Variance Ratio:  13.2769401463\n",
      "\n",
      "Linear Train Score: 0.114856651395\n",
      "Linear Test Score: 0.0994335991101\n",
      "Variance Ratio:  22.2317628637\n",
      "\n",
      "Linear Train Score: 0.152575899758\n",
      "Linear Test Score: 0.10497784479\n",
      "Variance Ratio:  29.4012461529\n",
      "\n",
      "Linear Train Score: 0.194839231058\n",
      "Linear Test Score: 0.106115034007\n",
      "Variance Ratio:  35.2127245433\n",
      "\n",
      "Linear Train Score: 0.217868161763\n",
      "Linear Test Score: 0.174275564606\n",
      "Variance Ratio:  40.0896394724\n",
      "\n",
      "Linear Train Score: 0.294487263234\n",
      "Linear Test Score: 0.194136287458\n",
      "Variance Ratio:  44.5948560235\n",
      "\n",
      "Linear Train Score: 0.295416289265\n",
      "Linear Test Score: 0.19572299145\n",
      "Variance Ratio:  48.8483710369\n",
      "\n",
      "Linear Train Score: 0.331425740978\n",
      "Linear Test Score: 0.216661232356\n",
      "Variance Ratio:  52.7879102384\n",
      "\n",
      "Linear Train Score: 0.368466308202\n",
      "Linear Test Score: 0.216866040403\n",
      "Variance Ratio:  56.1989845256\n",
      "\n",
      "Linear Train Score: 0.374526412086\n",
      "Linear Test Score: 0.216876671873\n",
      "Variance Ratio:  59.4363282654\n",
      "\n",
      "Linear Train Score: 0.412189157691\n",
      "Linear Test Score: 0.221086361579\n",
      "Variance Ratio:  62.5166276698\n",
      "\n",
      "Linear Train Score: 0.422266032892\n",
      "Linear Test Score: 0.226290577392\n",
      "Variance Ratio:  65.4202385219\n",
      "\n",
      "Linear Train Score: 0.422375973124\n",
      "Linear Test Score: 0.234361305145\n",
      "Variance Ratio:  68.1805487872\n",
      "\n",
      "Linear Train Score: 0.422761224743\n",
      "Linear Test Score: 0.238526634171\n",
      "Variance Ratio:  70.7771491567\n",
      "\n",
      "Linear Train Score: 0.426490872458\n",
      "Linear Test Score: 0.239590334933\n",
      "Variance Ratio:  73.221376468\n",
      "\n",
      "Linear Train Score: 0.429427534725\n",
      "Linear Test Score: 0.250994650202\n",
      "Variance Ratio:  75.3701889519\n",
      "\n",
      "Linear Train Score: 0.437078261152\n",
      "Linear Test Score: 0.269152095637\n",
      "Variance Ratio:  76.8791952759\n",
      "\n",
      "Linear Train Score: 0.439674078442\n",
      "Linear Test Score: 0.294212403231\n",
      "Variance Ratio:  78.1844980207\n",
      "\n",
      "Linear Train Score: 0.446402480414\n",
      "Linear Test Score: 0.306241853252\n",
      "Variance Ratio:  79.3631239265\n",
      "\n",
      "Linear Train Score: 0.481023726389\n",
      "Linear Test Score: 0.308799743968\n",
      "Variance Ratio:  80.3786318968\n",
      "\n",
      "Linear Train Score: 0.485226883129\n",
      "Linear Test Score: 0.309372077613\n",
      "Variance Ratio:  81.2854183415\n",
      "\n",
      "Linear Train Score: 0.496203443292\n",
      "Linear Test Score: 0.310056462171\n",
      "Variance Ratio:  82.018678833\n",
      "\n",
      "Linear Train Score: 0.503607220094\n",
      "Linear Test Score: 0.314454344983\n",
      "Variance Ratio:  82.6969595196\n",
      "\n",
      "Linear Train Score: 0.534310621262\n",
      "Linear Test Score: 0.316669753806\n",
      "Variance Ratio:  83.3215467437\n",
      "\n",
      "Linear Train Score: 0.540250706532\n",
      "Linear Test Score: 0.327679458131\n",
      "Variance Ratio:  83.9289558521\n",
      "\n",
      "Linear Train Score: 0.54989262788\n",
      "Linear Test Score: 0.328087497911\n",
      "Variance Ratio:  84.5206767049\n",
      "\n",
      "Linear Train Score: 0.5528546144\n",
      "Linear Test Score: 0.329993369867\n",
      "Variance Ratio:  85.0866038253\n",
      "\n",
      "Linear Train Score: 0.559233532957\n",
      "Linear Test Score: 0.331683626544\n",
      "Variance Ratio:  85.6013070004\n",
      "\n",
      "Linear Train Score: 0.566555839204\n",
      "Linear Test Score: 0.334852700387\n",
      "Variance Ratio:  86.0826949141\n",
      "\n"
     ]
    }
   ],
   "source": [
    "from sklearn.decomposition import PCA\n",
    "from sklearn.linear_model import LinearRegression\n",
    "\n",
    "Xtrain,Xtest,y_train,y_test = sample_data(331)\n",
    "numerical_columns = ['temp', 'atemp', 'humidity', 'windspeed']\n",
    "\n",
    "Xtrain_poly = gen_poly(numerical_columns,Xtrain,4)  \n",
    "Xtest_poly = gen_poly(numerical_columns,Xtest,4)  \n",
    "\n",
    "#Xtrain_poly,Xtest_poly = make_poly2(numerical_columns,Xtrain,Xtest)\n",
    "Xtrain_int,Xtest_int = make_interactions(Xtrain,Xtest)\n",
    "\n",
    "Xtrain_poly = pd.concat(Xtrain_poly+[Xtrain_int],axis=1)\n",
    "Xtest_poly = pd.concat(Xtest_poly+[Xtest_int],axis=1)\n",
    "\n",
    "#Xtrain_poly = Xtrain_poly.join(Xtrain_int)\n",
    "#Xtest_poly = Xtest_poly.join(Xtest_int)\n",
    "\n",
    "scaler = MinMaxScaler().fit(Xtrain_poly) \n",
    "Xtrain_scaled = scaler.transform(Xtrain_poly)\n",
    "Xtest_scaled= scaler.transform(Xtest_poly)\n",
    "\n",
    "components = range(1,30)\n",
    "\n",
    "for comp in components:\n",
    "    pca = PCA(n_components = comp)\n",
    "\n",
    "    Xtrain_pca = pca.fit_transform(Xtrain_scaled)\n",
    "    Xtest_pca = pca.fit_transform(Xtest_scaled)\n",
    "    \n",
    "    model = LinearRegression(fit_intercept = True) #OLS(exog = Xtrain_pca,endog=y_train).fit()\n",
    "    \n",
    "            \n",
    "    tr_score = model.fit(Xtrain_pca,y_train).score(Xtrain_pca,y_train)\n",
    "    tt_score = model.fit(Xtest_pca,y_test).score(Xtest_pca,y_test)\n",
    "    \n",
    "    print('Linear Train Score:',tr_score)\n",
    "    print('Linear Test Score:',tt_score)\n",
    "    print('Variance Ratio: ',np.sum(pca.explained_variance_ratio_)*100)\n",
    "    print('')\n",
    "\n"
   ]
  },
  {
   "cell_type": "code",
   "execution_count": 123,
   "metadata": {},
   "outputs": [
    {
     "name": "stdout",
     "output_type": "stream",
     "text": [
      "Test Score:  0.0041505242951\n",
      "Train Score 0.00799607362691\n",
      "Explained Variance:  82.138655327\n",
      "\n",
      "Test Score:  0.065194029203\n",
      "Train Score 0.0566873503836\n",
      "Explained Variance:  87.9069611738\n",
      "\n",
      "Test Score:  0.0654892803185\n",
      "Train Score 0.0696409415852\n",
      "Explained Variance:  91.2286037968\n",
      "\n",
      "Test Score:  0.0669245329498\n",
      "Train Score 0.0826739650037\n",
      "Explained Variance:  92.6944332692\n",
      "\n",
      "Test Score:  0.088295148285\n",
      "Train Score 0.12047330704\n",
      "Explained Variance:  93.8673018461\n",
      "\n",
      "Test Score:  0.0949255053802\n",
      "Train Score 0.146722017378\n",
      "Explained Variance:  94.7472037274\n",
      "\n",
      "Test Score:  0.101158894345\n",
      "Train Score 0.21622666855\n",
      "Explained Variance:  95.5291669172\n",
      "\n",
      "Test Score:  0.149750964113\n",
      "Train Score 0.217244186409\n",
      "Explained Variance:  96.208615514\n",
      "\n",
      "Test Score:  0.185047046336\n",
      "Train Score 0.225589961571\n",
      "Explained Variance:  96.7444917123\n",
      "\n",
      "Test Score:  0.186323025139\n",
      "Train Score 0.295517150984\n",
      "Explained Variance:  97.2430610445\n",
      "\n",
      "Test Score:  0.18972447535\n",
      "Train Score 0.303859526539\n",
      "Explained Variance:  97.6760935335\n",
      "\n",
      "Test Score:  0.20468066761\n",
      "Train Score 0.363010172689\n",
      "Explained Variance:  98.078098425\n",
      "\n",
      "Test Score:  0.209567309797\n",
      "Train Score 0.375613043611\n",
      "Explained Variance:  98.4411502272\n",
      "\n",
      "Test Score:  0.219481208192\n",
      "Train Score 0.376968738944\n",
      "Explained Variance:  98.769242488\n",
      "\n",
      "Test Score:  0.226018428484\n",
      "Train Score 0.377005641972\n",
      "Explained Variance:  99.0590186788\n",
      "\n",
      "Test Score:  0.226085077114\n",
      "Train Score 0.379351606227\n",
      "Explained Variance:  99.3134002069\n",
      "\n",
      "Test Score:  0.252540767292\n",
      "Train Score 0.385227758854\n",
      "Explained Variance:  99.5026940123\n",
      "\n",
      "Test Score:  0.252551360907\n",
      "Train Score 0.38878331002\n",
      "Explained Variance:  99.5852983322\n",
      "\n",
      "Test Score:  0.294748572267\n",
      "Train Score 0.411113518884\n",
      "Explained Variance:  99.6504973384\n",
      "\n",
      "Test Score:  0.295744493374\n",
      "Train Score 0.436870979092\n",
      "Explained Variance:  99.7022603148\n",
      "\n",
      "Test Score:  0.295785156962\n",
      "Train Score 0.441340841506\n",
      "Explained Variance:  99.739512196\n",
      "\n",
      "Test Score:  0.295888213037\n",
      "Train Score 0.450343611256\n",
      "Explained Variance:  99.7664888848\n",
      "\n",
      "Test Score:  0.302610254116\n",
      "Train Score 0.456493367657\n",
      "Explained Variance:  99.7866329973\n",
      "\n",
      "Test Score:  0.302946529478\n",
      "Train Score 0.485343915577\n",
      "Explained Variance:  99.8050898924\n",
      "\n",
      "Test Score:  0.308775679067\n",
      "Train Score 0.488497801705\n",
      "Explained Variance:  99.8217830816\n",
      "\n",
      "Test Score:  0.311697655602\n",
      "Train Score 0.488647965637\n",
      "Explained Variance:  99.8369568875\n",
      "\n",
      "Test Score:  0.311703674932\n",
      "Train Score 0.491832555223\n",
      "Explained Variance:  99.8505278243\n",
      "\n",
      "Test Score:  0.312727082025\n",
      "Train Score 0.495324001331\n",
      "Explained Variance:  99.8619391064\n",
      "\n",
      "Test Score:  0.316129991401\n",
      "Train Score 0.49676829358\n",
      "Explained Variance:  99.8724739169\n",
      "\n"
     ]
    }
   ],
   "source": [
    "# your code here\n",
    "from sklearn.decomposition import TruncatedSVD as SVD\n",
    "\n",
    "X = Xtrain_scaled\n",
    "X = X.T.dot(X)\n",
    "for comp in range(1,30):\n",
    "    \n",
    "    svd = SVD(n_components=comp)\n",
    "    U = svd.fit(X).components_\n",
    "    new_train = Xtrain_scaled.dot(U.T)\n",
    "    beta = np.linalg.pinv(new_train).dot(y_train)\n",
    "    train_pred = new_train.dot(beta)\n",
    "    \n",
    "    svd.fit(Xtest_scaled.T.dot(Xtest_scaled))\n",
    "    U_test = svd.components_\n",
    "    new_test = Xtest_scaled.dot(U_test.T)\n",
    "    beta = np.linalg.pinv(new_test).dot(y_test)\n",
    "    pred = new_test.dot(beta)\n",
    "    \n",
    "    print('Test Score: ',r2_score(y_test,pred))\n",
    "    print('Train Score',r2_score(y_train,train_pred))\n",
    "    print('Explained Variance: ',np.sum(svd.explained_variance_ratio_)*100)\n",
    "    print('')\n"
   ]
  },
  {
   "cell_type": "markdown",
   "metadata": {},
   "source": [
    "your answers here\n"
   ]
  },
  {
   "cell_type": "markdown",
   "metadata": {},
   "source": [
    "## Part (i): Beyond Squared Error\n",
    "\n",
    "We have seen in class that the multiple linear regression method optimizes the Mean Squared Error (MSE) on the training set. Consider the following alternate evaluation metric, referred to as the Root Mean Squared Logarthmic Error (RMSLE):\n",
    "\n",
    "$$\n",
    "\\sqrt{\\frac{1}{n}\\sum_{i=1}^n (log(y_i+1) - log(\\hat{y}_i+1))^2}.\n",
    "$$\n",
    "\n",
    "The *lower* the RMSLE the *better* is the performance of a model. The RMSLE penalizes errors on smaller responses more heavily than errors on larger responses. For example, the RMSLE penalizes a prediction of $\\hat{y} = 15$ for a true response of $y=10$ more heavily than a prediction of $\\hat{y} = 105$ for a true response of $100$, though the difference in predicted and true responses are the same in both cases. \n",
    "\n",
    "This is a natural evaluation metric for bike share demand prediction, as in this application, it is more important that the prediction model is accurate on days where the demand is low (so that the few customers who arrive are served satisfactorily), compared to days on which the demand is high (when it is less damaging to lose out on some customers).\n",
    "\n",
    "The following code computes the RMSLE for you:"
   ]
  },
  {
   "cell_type": "code",
   "execution_count": 119,
   "metadata": {
    "collapsed": true
   },
   "outputs": [],
   "source": [
    "#--------  rmsle\n",
    "# A function for evaluating Root Mean Squared Logarithmic Error (RMSLE)\n",
    "# of the linear regression model on a data set\n",
    "# Input: \n",
    "#      y_test (n x 1 array of response variable vals in testing data)\n",
    "#      y_pred (n x 1 array of response variable vals in testing data)\n",
    "# Return: \n",
    "#      RMSLE (float) \n",
    "\n",
    "def rmsle(y, y_pred):     \n",
    "    # Evaluate sqaured error, against target labels\n",
    "    # rmsle = \\sqrt(1/n \\sum_i (log (y[i]+1) - log (y_pred[i]+1))^2)\n",
    "    rmsle_ = np.sqrt(np.mean(np.square(np.log(y+1) - np.log(y_pred+1))))\n",
    "    \n",
    "    return rmsle_"
   ]
  },
  {
   "cell_type": "markdown",
   "metadata": {},
   "source": [
    "Use the above code to compute the training and test RMSLE for the polynomial regression model you fit in Part (g). \n",
    "\n",
    "You are required to develop a strategy to fit a regression model by optimizing the RMSLE on the training set. Give a justification for your proposed approach. Does the model fitted using your approach yield lower train RMSLE than the model in Part (g)? How about the test RMSLE of the new model? \n",
    "\n",
    "**Note:** We do not require you to implement a new regression solver for RMSLE. Instead, we ask you to think about ways to use existing built-in functions to fit a model that performs well on RMSLE. Your regression model may use the same polynomial terms used in Part (g)."
   ]
  },
  {
   "cell_type": "code",
   "execution_count": 120,
   "metadata": {},
   "outputs": [
    {
     "name": "stdout",
     "output_type": "stream",
     "text": [
      "RMLSE for LOG transformed model on test set:  4.52671694734\n",
      "RMSLE untranformed model on test set:  1.57723366569\n",
      "RMLSE for LOG transformed model on training set:  0.4656799538\n",
      "RMSLE untranformed model on training set:  0.465679952308\n"
     ]
    }
   ],
   "source": [
    "# your code here\n",
    "model = OLS(np.log(np.abs(y_train)+1),Xtrain_poly).fit()\n",
    "test_pred = model.predict(Xtest_poly)\n",
    "train_pred = model.predict(Xtrain_poly)\n",
    "rmsle_log_test = np.sqrt(np.mean(np.square(np.log(np.abs(y_test)+1)-test_pred.values)))\n",
    "rmsle_log_train = np.sqrt(np.mean(np.square(np.log(np.abs(y_train)+1)-train_pred.values)))\n",
    "\n",
    "model = OLS(y_train,Xtrain_poly).fit()\n",
    "test_pred = model.predict(Xtest_poly)\n",
    "train_pred = model.predict(Xtrain_poly)\n",
    "rmlse_test = np.sqrt(np.mean(np.square(np.log(np.abs(y_test)+1)-np.log(np.abs(test_pred.values)+1))))\n",
    "rmlse_train = np.sqrt(np.mean(np.square(np.log(np.abs(y_train)+1)-np.log(np.abs(train_pred.values)+1))))\n",
    "print('RMLSE for LOG transformed model on test set: ',rmsle_log_test)\n",
    "print('RMSLE untranformed model on test set: ',rmlse_test)\n",
    "print('RMLSE for LOG transformed model on training set: ',rmsle_log_train)\n",
    "\n",
    "print('RMSLE untranformed model on training set: ',rmlse_train)"
   ]
  },
  {
   "cell_type": "markdown",
   "metadata": {},
   "source": [
    "your answers here"
   ]
  },
  {
   "cell_type": "markdown",
   "metadata": {},
   "source": [
    "## Part (j): Dealing with Erroneous Labels\n",
    "\n",
    "Due to occasional system crashes, some of the bike counts reported in the data set have been recorded manually. These counts are not very unreliable and are prone to errors. It is known that roughly 5% of the labels in the training set are erroneous (i.e. can be arbitrarily different from the true counts), while all the labels in the test set were confirmed to be accurate. Unfortunately, the identities of the erroneous records in the training set are not available. Can this information about presence of 5% errors in the training set labels (without details about the specific identities of the erroneous rows) be used to improve the performance of the model in Part (g)? Note that we are interested in improving the $R^2$ performance of the model on the test set (not the training $R^2$ score). \n",
    "\n",
    "As a final task, we require you to come up with a strategy to fit a regression model, taking into account the errors in the training set labels. Explain the intuition behind your approach (we do not expect a detailed mathematical justification). Use your approach to fit a regression model on the training set, and compare its test $R^2$ with the model in Part (g).\n",
    "\n",
    "**Note:** Again, we do not require you to implement a new regression solver for handling erroneous labels. It is sufficient that you to come up with an approach that uses existing built-in functions. Your regression model may use the same polynomial terms used in Part (g)."
   ]
  },
  {
   "cell_type": "code",
   "execution_count": 325,
   "metadata": {
    "collapsed": true
   },
   "outputs": [],
   "source": []
  },
  {
   "cell_type": "code",
   "execution_count": 326,
   "metadata": {},
   "outputs": [
    {
     "data": {
      "text/plain": [
       "0.042166718319568863"
      ]
     },
     "execution_count": 326,
     "metadata": {},
     "output_type": "execute_result"
    }
   ],
   "source": []
  },
  {
   "cell_type": "markdown",
   "metadata": {},
   "source": [
    "# APCOMP209a - Homework Question"
   ]
  },
  {
   "cell_type": "markdown",
   "metadata": {},
   "source": [
    "\n",
    "\n",
    "##  Question 1: Student's t MLE\n",
    "\n",
    "Use Maximum Likelihood Estimation to generate a linear regression model on the data provided in ``beerdata.csv`` considering two statistical models for noise: a) iid Normal and b) iid Student's t-distribution with $\\nu=5$ and scale factor σ=0.5.  \n",
    "\n",
    "Compare the two models performances and comment why it is perhaps appropriate to use the Student's t-distribution instead of the Normal? \n",
    "\n",
    "\n",
    "\n",
    "\n",
    "\n",
    "HINTS:\n",
    "1. Use the probability density function for the Student's t distribution  with location μ and scale factor σ.\n",
    "2. If the MLE regressions coefficients can not be derived analytically consider numerical methods.\n",
    "3. You can use sklearn or statsmodel for the Normal case \n",
    "\n",
    "\n"
   ]
  },
  {
   "cell_type": "markdown",
   "metadata": {},
   "source": [
    "## Question 2 (continued from HW2) \n",
    "\n",
    "Read sections 1 and 2 of this [paper](https://www.researchgate.net/profile/Roberto_Togneri/publication/45094554_Linear_Regression_for_Face_Recognition/links/09e4150d243bd8b987000000/Linear-Regression-for-Face-Recognition.pdf). \n",
    "\n",
    "Briefly, the model leverages the concept that \"patterns from a single-object class lie on a linear subspace.\"   It also makes use of the idea of linear regression as a problem about projections.  In this case, given a vector $y$, the goal is to find the subspace induced by $\\mathrm{Col} \\, \\mathbf X$ that produced the 'closest' projection vector $\\widehat y$ to the original $y$.  \n",
    "\n",
    "### Question 2a\n",
    "\n",
    "As discussed in the paper, our face dataset contains cleaned images of faces belonging to different people. Assuming that patterns (faces) from one class (person) are elements of the same subspace, let's try to classify an unknown face using the method presented in the paper.  For each class $i$, we need to:\n",
    "\n",
    "1. construct the $\\mathbf H_i$ hat matrix from known faces, being careful to follow the column concatenation step described in the paper to convert an image into its vector representation;\n",
    "2. calculate the predicted $\\widehat y_i$, the closest vector in $\\mathrm{Col} \\, \\mathbf X_i$ to $y$; and\n",
    "3. calculate the magnitude of the difference vector between $y$ and $\\widehat y_i$.\n",
    "\n",
    "You should then be able to make a classification decision.\n",
    "\n",
    "**Notes:**\n",
    "- Use the provided code to download and re-sample the dataset.\n",
    "- Follow the normalisation step in the paper to ensure the \"maximum pixel value is 1\".\n",
    "- Your classifier should have approximately an 80% accuracy.\n",
    "- Use the image plotting library of matplotlib to display one (or two) correctly classified faces and the known faces.\n",
    "- Use the image plotting library of matplotlib to display one (or two) incorrectly classified faces and the known faces.\n",
    "    \n",
    "### Question 2b - Significant Faces\n",
    "Select an example of a correctly classified face. Use statsmodels to investigate the most predictive columns (faces) that the model used in this regression:\n",
    "\n",
    "(i) Which columns (i.e. faces) make the highest contribution to the projection?\n",
    "\n",
    "(ii) Which columns (i.e. faces) are the least useful in making this projection?\n",
    "\n",
    "Plot the correctly assigned face, and the two faces from the questions (i) and (ii). What do you notice about these faces?"
   ]
  },
  {
   "cell_type": "code",
   "execution_count": null,
   "metadata": {
    "collapsed": true
   },
   "outputs": [],
   "source": [
    "from io import BytesIO\n",
    "from zipfile import ZipFile\n",
    "import urllib\n",
    "import os\n",
    "\n",
    "# Note that you may need to run the following command to install Python Image Library (PIL)\n",
    "#pip install Pillow\n",
    "from PIL import Image\n",
    "import numpy as np\n",
    "from sklearn.cross_validation import train_test_split\n",
    "\n",
    "import matplotlib\n",
    "import matplotlib.pyplot as plt\n",
    "\n",
    "%matplotlib inline"
   ]
  },
  {
   "cell_type": "code",
   "execution_count": null,
   "metadata": {
    "collapsed": true
   },
   "outputs": [],
   "source": [
    "# starter functions provided to students\n",
    "def rgb2gray(rgb):\n",
    "    '''\n",
    "    function to convert RGB image to gray scale\n",
    "    accepts 3D numpy array and returns 2D array with same dimensions\n",
    "    as the first two dimensions of input\n",
    "    '''\n",
    "    \n",
    "    return np.dot(rgb[...,:3], [0.299, 0.587, 0.114])\n",
    "\n",
    "def fetch_and_read_data(shape=(50,30)):\n",
    "    \n",
    "    '''\n",
    "    Function to download image data, store in a local folder (note this is 18.4mb), only download the data when\n",
    "    the local folder is not present, read in the images, downsample them to the specified shape (default = (50x30) (rows x cols))\n",
    "    and finally split them into a four tuple return object.\n",
    "    \n",
    "    Returns:\n",
    "        - 1) training image data (i.e. images that should form the predictor matrix in your solution)\n",
    "        - 2) training image data labels (i.e. labels from 1 to 50 that identify which face (1) belongs to)\n",
    "        - 3) testing image data (i.e. data that you should use to try and classify - note this forms the predictor variable in your regression)\n",
    "        - 4) testing image data labels (i.e. the labels for (3) - this is to allow you to evaluate your model)\n",
    "    \n",
    "    ___________________\n",
    "    Aside:\n",
    "    If you want to change the sampling dimensions of your data, pass the shape = (x,y) argument to the method where\n",
    "    y is the number of columns and x is the number of rows in the image.\n",
    "    '''\n",
    "    \n",
    "    if not os.path.exists('./cropped_faces'):\n",
    "        url = urllib.request.urlopen(\"http://www.anefian.com/research/GTdb_crop.zip\")\n",
    "        \n",
    "        zipfile = ZipFile(BytesIO(url.read()))\n",
    "        zipfile.extractall()\n",
    "     \n",
    "    data = []\n",
    "    labels = []\n",
    "    \n",
    "    files = os.listdir('cropped_faces')\n",
    "    for f in files:\n",
    "        if '.jpg' in f:\n",
    "            image = Image.open('cropped_faces/' + f)\n",
    "            image = image.resize((shape[1], shape[0]))\n",
    "            data.append(rgb2gray(np.asarray(image)))\n",
    "            labels.append(int(f.split('_')[0][1:]) - 1)\n",
    "            \n",
    "    data = np.array(data)\n",
    "    \n",
    "    trainX, testX, trainY, testY = train_test_split(data, labels, test_size=0.2, stratify=labels)\n",
    "    return np.array(trainX), np.array(testX), np.array(trainY), np.array(testY)"
   ]
  },
  {
   "cell_type": "code",
   "execution_count": null,
   "metadata": {
    "collapsed": true
   },
   "outputs": [],
   "source": [
    "# starter code for the students\n",
    "train_dataset, test_dataset, train_labels, test_labels = fetch_and_read_data()\n",
    "\n",
    "# code to plot some of the images\n",
    "fig, axes = plt.subplots(2,4,figsize=(10,5))\n",
    "axes = axes.flatten()\n",
    "[axes[i].imshow(train_dataset[i], cmap='gray') for i in range(len(axes))]\n",
    "plt.show()"
   ]
  },
  {
   "cell_type": "code",
   "execution_count": null,
   "metadata": {
    "collapsed": true
   },
   "outputs": [],
   "source": []
  }
 ],
 "metadata": {
  "anaconda-cloud": {},
  "kernelspec": {
   "display_name": "Python 3",
   "language": "python",
   "name": "python3"
  },
  "language_info": {
   "codemirror_mode": {
    "name": "ipython",
    "version": 3
   },
   "file_extension": ".py",
   "mimetype": "text/x-python",
   "name": "python",
   "nbconvert_exporter": "python",
   "pygments_lexer": "ipython3",
   "version": "3.6.1"
  }
 },
 "nbformat": 4,
 "nbformat_minor": 1
}
