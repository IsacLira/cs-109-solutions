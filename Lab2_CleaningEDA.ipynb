{
 "cells": [
  {
   "cell_type": "markdown",
   "metadata": {},
   "source": [
    "# CS 109A/STAT 121A/AC 209A/CSCI E-109A  \n",
    "\n",
    "## Lab 2: Cleaning and EDA of Goodreads \n",
    "\n",
    "**Harvard University**<br>\n",
    "**Fall 2017**<br>\n",
    "**Instructors: Pavlos Protopapas, Kevin Rader, Rahul Dave, Margo Levine**\n",
    "\n",
    "---"
   ]
  },
  {
   "cell_type": "markdown",
   "metadata": {},
   "source": [
    "# Table of Contents \n",
    "<ol start=\"0\">\n",
    "<li> Learning Goals </li>\n",
    "<li> Loading and Cleaning with Pandas</li>\n",
    "<li> Asking Questions?  </li>\n",
    "<li> Parsing and Completing the Dataframe  </li>\n",
    "<li> EDA  </li>\n",
    "<li> Determining the Best Books  </li>\n",
    "<li>Trends in Popularity of Genres </li>\n",
    "</ol>"
   ]
  },
  {
   "cell_type": "markdown",
   "metadata": {},
   "source": [
    "## Learning Goals\n",
    "\n",
    "About 6000 odd \"best books\" were fetched and parsed from [Goodreads](https://www.goodreads.com). The \"bestness\" of these books came from a proprietary formula used by Goodreads and published as a list on their web site.\n",
    "\n",
    "We parsed the page for each book and saved data from all these pages in a tabular format as a CSV file. In this lab we'll clean and further parse the data.  We'll then do some exploratory data analysis to answer questions about these best books and popular genres.  \n",
    "\n",
    "\n",
    "By the end of this lab, you should be able to:\n",
    "\n",
    "- Load and systematically address missing values, ancoded as `NaN` values in our data set, for example, by removing observations associated with these values.\n",
    "- Parse columns in the dataframe to create new dataframe columns.\n",
    "- Create and interpret visualizations to explore the data set\n",
    "\n",
    "*This lab corresponds to lectures 2 and 3 and maps on to homework 1 and further.*"
   ]
  },
  {
   "cell_type": "markdown",
   "metadata": {},
   "source": [
    "### Basic EDA workflow\n",
    "\n",
    "(From the lecture, repeated here for convenience).\n",
    "\n",
    "The basic workflow is as follows:\n",
    "\n",
    "1. **Scrape**  data using beautiful soup and python request.\n",
    "2. **Build** a DataFrame from the data (ideally, put all data in this object)\n",
    "3. **Clean** the DataFrame. It should have the following properties:\n",
    "    - Each row describes a single object\n",
    "    - Each column describes a property of that object\n",
    "    - Columns are numeric whenever appropriate\n",
    "    - Columns contain atomic properties that cannot be further decomposed\n",
    "4. Explore **global properties**. Use histograms, scatter plots, and aggregation functions to summarize the data.\n",
    "5. Explore **group properties**. Use groupby and small multiples to compare subsets of the data.\n",
    "\n",
    "This process transforms your data into a format which is easier to work with, gives you a basic overview of the data's properties, and likely generates several questions for you to followup in subsequent analysis."
   ]
  },
  {
   "cell_type": "markdown",
   "metadata": {},
   "source": [
    "## Part 1: Loading and Cleaning with Pandas \n",
    "Read in the `goodreads.csv` file, examine the data, and do any necessary data cleaning. \n",
    "\n",
    "Here is a description of the columns (in order) present in this csv file:\n",
    "\n",
    "```\n",
    "rating: the average rating on a 1-5 scale achieved by the book\n",
    "review_count: the number of Goodreads users who reviewed this book\n",
    "isbn: the ISBN code for the book\n",
    "booktype: an internal Goodreads identifier for the book\n",
    "author_url: the Goodreads (relative) URL for the author of the book\n",
    "year: the year the book was published\n",
    "genre_urls: a string with '|' separated relative URLS of Goodreads genre pages\n",
    "dir: a directory identifier internal to the scraping code\n",
    "rating_count: the number of ratings for this book (this is different from the number of reviews)\n",
    "name: the name of the book\n",
    "```\n",
    "\n",
    "Report all the issues you found with the data and how you resolved them.  \n",
    "\n",
    "[15 minutes]\n",
    "\n",
    "----"
   ]
  },
  {
   "cell_type": "code",
   "execution_count": null,
   "metadata": {
    "collapsed": true
   },
   "outputs": [],
   "source": [
    "import pandas as pd\n",
    "import numpy as np"
   ]
  },
  {
   "cell_type": "code",
   "execution_count": 6,
   "metadata": {},
   "outputs": [
    {
     "data": {
      "text/html": [
       "<div>\n",
       "<style>\n",
       "    .dataframe thead tr:only-child th {\n",
       "        text-align: right;\n",
       "    }\n",
       "\n",
       "    .dataframe thead th {\n",
       "        text-align: left;\n",
       "    }\n",
       "\n",
       "    .dataframe tbody tr th {\n",
       "        vertical-align: top;\n",
       "    }\n",
       "</style>\n",
       "<table border=\"1\" class=\"dataframe\">\n",
       "  <thead>\n",
       "    <tr style=\"text-align: right;\">\n",
       "      <th></th>\n",
       "      <th>rating</th>\n",
       "      <th>review_count</th>\n",
       "      <th>isbn</th>\n",
       "      <th>booktype</th>\n",
       "      <th>author_url</th>\n",
       "      <th>year</th>\n",
       "      <th>genre_urls</th>\n",
       "      <th>dir</th>\n",
       "      <th>rating_count</th>\n",
       "      <th>name</th>\n",
       "    </tr>\n",
       "  </thead>\n",
       "  <tbody>\n",
       "    <tr>\n",
       "      <th>0</th>\n",
       "      <td>4.40</td>\n",
       "      <td>136455</td>\n",
       "      <td>0439023483</td>\n",
       "      <td>good_reads:book</td>\n",
       "      <td>https://www.goodreads.com/author/show/153394.S...</td>\n",
       "      <td>2008.0</td>\n",
       "      <td>/genres/young-adult|/genres/science-fiction|/g...</td>\n",
       "      <td>dir01/2767052-the-hunger-games.html</td>\n",
       "      <td>2958974</td>\n",
       "      <td>The Hunger Games (The Hunger Games, #1)</td>\n",
       "    </tr>\n",
       "    <tr>\n",
       "      <th>1</th>\n",
       "      <td>4.41</td>\n",
       "      <td>16648</td>\n",
       "      <td>0439358078</td>\n",
       "      <td>good_reads:book</td>\n",
       "      <td>https://www.goodreads.com/author/show/1077326....</td>\n",
       "      <td>2003.0</td>\n",
       "      <td>/genres/fantasy|/genres/young-adult|/genres/fi...</td>\n",
       "      <td>dir01/2.Harry_Potter_and_the_Order_of_the_Phoe...</td>\n",
       "      <td>1284478</td>\n",
       "      <td>Harry Potter and the Order of the Phoenix (Har...</td>\n",
       "    </tr>\n",
       "    <tr>\n",
       "      <th>2</th>\n",
       "      <td>3.56</td>\n",
       "      <td>85746</td>\n",
       "      <td>0316015849</td>\n",
       "      <td>good_reads:book</td>\n",
       "      <td>https://www.goodreads.com/author/show/941441.S...</td>\n",
       "      <td>2005.0</td>\n",
       "      <td>/genres/young-adult|/genres/fantasy|/genres/ro...</td>\n",
       "      <td>dir01/41865.Twilight.html</td>\n",
       "      <td>2579564</td>\n",
       "      <td>Twilight (Twilight, #1)</td>\n",
       "    </tr>\n",
       "    <tr>\n",
       "      <th>3</th>\n",
       "      <td>4.23</td>\n",
       "      <td>47906</td>\n",
       "      <td>0061120081</td>\n",
       "      <td>good_reads:book</td>\n",
       "      <td>https://www.goodreads.com/author/show/1825.Har...</td>\n",
       "      <td>1960.0</td>\n",
       "      <td>/genres/classics|/genres/fiction|/genres/histo...</td>\n",
       "      <td>dir01/2657.To_Kill_a_Mockingbird.html</td>\n",
       "      <td>2078123</td>\n",
       "      <td>To Kill a Mockingbird</td>\n",
       "    </tr>\n",
       "    <tr>\n",
       "      <th>4</th>\n",
       "      <td>4.23</td>\n",
       "      <td>34772</td>\n",
       "      <td>0679783261</td>\n",
       "      <td>good_reads:book</td>\n",
       "      <td>https://www.goodreads.com/author/show/1265.Jan...</td>\n",
       "      <td>1813.0</td>\n",
       "      <td>/genres/classics|/genres/fiction|/genres/roman...</td>\n",
       "      <td>dir01/1885.Pride_and_Prejudice.html</td>\n",
       "      <td>1388992</td>\n",
       "      <td>Pride and Prejudice</td>\n",
       "    </tr>\n",
       "  </tbody>\n",
       "</table>\n",
       "</div>"
      ],
      "text/plain": [
       "   rating review_count        isbn         booktype  \\\n",
       "0    4.40       136455  0439023483  good_reads:book   \n",
       "1    4.41        16648  0439358078  good_reads:book   \n",
       "2    3.56        85746  0316015849  good_reads:book   \n",
       "3    4.23        47906  0061120081  good_reads:book   \n",
       "4    4.23        34772  0679783261  good_reads:book   \n",
       "\n",
       "                                          author_url    year  \\\n",
       "0  https://www.goodreads.com/author/show/153394.S...  2008.0   \n",
       "1  https://www.goodreads.com/author/show/1077326....  2003.0   \n",
       "2  https://www.goodreads.com/author/show/941441.S...  2005.0   \n",
       "3  https://www.goodreads.com/author/show/1825.Har...  1960.0   \n",
       "4  https://www.goodreads.com/author/show/1265.Jan...  1813.0   \n",
       "\n",
       "                                          genre_urls  \\\n",
       "0  /genres/young-adult|/genres/science-fiction|/g...   \n",
       "1  /genres/fantasy|/genres/young-adult|/genres/fi...   \n",
       "2  /genres/young-adult|/genres/fantasy|/genres/ro...   \n",
       "3  /genres/classics|/genres/fiction|/genres/histo...   \n",
       "4  /genres/classics|/genres/fiction|/genres/roman...   \n",
       "\n",
       "                                                 dir rating_count  \\\n",
       "0                dir01/2767052-the-hunger-games.html      2958974   \n",
       "1  dir01/2.Harry_Potter_and_the_Order_of_the_Phoe...      1284478   \n",
       "2                          dir01/41865.Twilight.html      2579564   \n",
       "3              dir01/2657.To_Kill_a_Mockingbird.html      2078123   \n",
       "4                dir01/1885.Pride_and_Prejudice.html      1388992   \n",
       "\n",
       "                                                name  \n",
       "0            The Hunger Games (The Hunger Games, #1)  \n",
       "1  Harry Potter and the Order of the Phoenix (Har...  \n",
       "2                            Twilight (Twilight, #1)  \n",
       "3                              To Kill a Mockingbird  \n",
       "4                                Pride and Prejudice  "
      ]
     },
     "execution_count": 6,
     "metadata": {},
     "output_type": "execute_result"
    }
   ],
   "source": [
    "columns = ['rating','review_count','isbn','booktype','author_url','year','genre_urls','dir','rating_count','name']\n",
    "goodreads_df = pd.read_csv('data/goodreads.csv',names=columns)goodreads_df.head()"
   ]
  },
  {
   "cell_type": "code",
   "execution_count": 147,
   "metadata": {
    "collapsed": true
   },
   "outputs": [],
   "source": [
    "del goodreads_df['booktype']\n",
    "del goodreads_df['dir']"
   ]
  },
  {
   "cell_type": "markdown",
   "metadata": {},
   "source": [
    "##   Part 2: Asking Questions \n",
    "Think of few questions we want to ask and then examine the data and decide if the dataframe contains what you need to address these questions. \n",
    "\n",
    "[5 min]\n",
    "\n",
    "---"
   ]
  },
  {
   "cell_type": "markdown",
   "metadata": {},
   "source": [
    "1. Quais os livros mais bem avaliados? \n",
    "2. Quais os livros mais lidos?\n",
    "3. Existe alguma relação entre o número de revisões e o rating dos livros?"
   ]
  },
  {
   "cell_type": "code",
   "execution_count": 17,
   "metadata": {
    "collapsed": true
   },
   "outputs": [],
   "source": [
    "import matplotlib.pyplot as plt\n",
    "%matplotlib inline"
   ]
  },
  {
   "cell_type": "code",
   "execution_count": 20,
   "metadata": {},
   "outputs": [
    {
     "data": {
      "text/plain": [
       "<matplotlib.collections.PathCollection at 0x208f2bc8c88>"
      ]
     },
     "execution_count": 20,
     "metadata": {},
     "output_type": "execute_result"
    },
    {
     "data": {
      "image/png": "[encoded data removed]",
      "text/plain": [
       "<matplotlib.figure.Figure at 0x208f2b6fba8>"
      ]
     },
     "metadata": {},
     "output_type": "display_data"
    }
   ],
   "source": [
    "plt.scatter(goodreads_df['rating'],goodreads_df['review_count'])"
   ]
  },
  {
   "cell_type": "markdown",
   "metadata": {},
   "source": [
    "##  Part 3: Parsing and Completing the Data Frame \n",
    "\n",
    "We will need author and genre to proceed! Parse the `author` column from the author_url and `genres` column from the genre_urls. Keep the `genres` column as a string separated by '|'.\n",
    "\n",
    "Hint: Use panda's `map` to assign new columns to the dataframe.  \n",
    "\n",
    "[10 minutes]\n",
    "\n",
    "---"
   ]
  },
  {
   "cell_type": "code",
   "execution_count": 126,
   "metadata": {},
   "outputs": [
    {
     "data": {
      "text/html": [
       "<div>\n",
       "<style>\n",
       "    .dataframe thead tr:only-child th {\n",
       "        text-align: right;\n",
       "    }\n",
       "\n",
       "    .dataframe thead th {\n",
       "        text-align: left;\n",
       "    }\n",
       "\n",
       "    .dataframe tbody tr th {\n",
       "        vertical-align: top;\n",
       "    }\n",
       "</style>\n",
       "<table border=\"1\" class=\"dataframe\">\n",
       "  <thead>\n",
       "    <tr style=\"text-align: right;\">\n",
       "      <th></th>\n",
       "      <th>rating</th>\n",
       "      <th>review_count</th>\n",
       "      <th>isbn</th>\n",
       "      <th>booktype</th>\n",
       "      <th>author_url</th>\n",
       "      <th>year</th>\n",
       "      <th>genre_urls</th>\n",
       "      <th>dir</th>\n",
       "      <th>rating_count</th>\n",
       "      <th>name</th>\n",
       "      <th>genres</th>\n",
       "      <th>author</th>\n",
       "    </tr>\n",
       "  </thead>\n",
       "  <tbody>\n",
       "    <tr>\n",
       "      <th>0</th>\n",
       "      <td>4.40</td>\n",
       "      <td>136455</td>\n",
       "      <td>0439023483</td>\n",
       "      <td>good_reads:book</td>\n",
       "      <td>https://www.goodreads.com/author/show/153394.S...</td>\n",
       "      <td>2008.0</td>\n",
       "      <td>/genres/young-adult|/genres/science-fiction|/g...</td>\n",
       "      <td>dir01/2767052-the-hunger-games.html</td>\n",
       "      <td>2958974</td>\n",
       "      <td>The Hunger Games (The Hunger Games, #1)</td>\n",
       "      <td>young-adult|science-fiction|dystopia|fantasy|s...</td>\n",
       "      <td>Suzanne_Collins</td>\n",
       "    </tr>\n",
       "    <tr>\n",
       "      <th>1</th>\n",
       "      <td>4.41</td>\n",
       "      <td>16648</td>\n",
       "      <td>0439358078</td>\n",
       "      <td>good_reads:book</td>\n",
       "      <td>https://www.goodreads.com/author/show/1077326....</td>\n",
       "      <td>2003.0</td>\n",
       "      <td>/genres/fantasy|/genres/young-adult|/genres/fi...</td>\n",
       "      <td>dir01/2.Harry_Potter_and_the_Order_of_the_Phoe...</td>\n",
       "      <td>1284478</td>\n",
       "      <td>Harry Potter and the Order of the Phoenix (Har...</td>\n",
       "      <td>fantasy|young-adult|fiction|fantasy|magic|chil...</td>\n",
       "      <td>J_K_Rowling</td>\n",
       "    </tr>\n",
       "    <tr>\n",
       "      <th>2</th>\n",
       "      <td>3.56</td>\n",
       "      <td>85746</td>\n",
       "      <td>0316015849</td>\n",
       "      <td>good_reads:book</td>\n",
       "      <td>https://www.goodreads.com/author/show/941441.S...</td>\n",
       "      <td>2005.0</td>\n",
       "      <td>/genres/young-adult|/genres/fantasy|/genres/ro...</td>\n",
       "      <td>dir01/41865.Twilight.html</td>\n",
       "      <td>2579564</td>\n",
       "      <td>Twilight (Twilight, #1)</td>\n",
       "      <td>young-adult|fantasy|romance|paranormal|vampire...</td>\n",
       "      <td>Stephenie_Meyer</td>\n",
       "    </tr>\n",
       "    <tr>\n",
       "      <th>3</th>\n",
       "      <td>4.23</td>\n",
       "      <td>47906</td>\n",
       "      <td>0061120081</td>\n",
       "      <td>good_reads:book</td>\n",
       "      <td>https://www.goodreads.com/author/show/1825.Har...</td>\n",
       "      <td>1960.0</td>\n",
       "      <td>/genres/classics|/genres/fiction|/genres/histo...</td>\n",
       "      <td>dir01/2657.To_Kill_a_Mockingbird.html</td>\n",
       "      <td>2078123</td>\n",
       "      <td>To Kill a Mockingbird</td>\n",
       "      <td>classics|fiction|historical-fiction|academic|s...</td>\n",
       "      <td>Harper_Lee</td>\n",
       "    </tr>\n",
       "    <tr>\n",
       "      <th>4</th>\n",
       "      <td>4.23</td>\n",
       "      <td>34772</td>\n",
       "      <td>0679783261</td>\n",
       "      <td>good_reads:book</td>\n",
       "      <td>https://www.goodreads.com/author/show/1265.Jan...</td>\n",
       "      <td>1813.0</td>\n",
       "      <td>/genres/classics|/genres/fiction|/genres/roman...</td>\n",
       "      <td>dir01/1885.Pride_and_Prejudice.html</td>\n",
       "      <td>1388992</td>\n",
       "      <td>Pride and Prejudice</td>\n",
       "      <td>classics|fiction|romance|historical-fiction|li...</td>\n",
       "      <td>Jane_Austen</td>\n",
       "    </tr>\n",
       "  </tbody>\n",
       "</table>\n",
       "</div>"
      ],
      "text/plain": [
       "   rating review_count        isbn         booktype  \\\n",
       "0    4.40       136455  0439023483  good_reads:book   \n",
       "1    4.41        16648  0439358078  good_reads:book   \n",
       "2    3.56        85746  0316015849  good_reads:book   \n",
       "3    4.23        47906  0061120081  good_reads:book   \n",
       "4    4.23        34772  0679783261  good_reads:book   \n",
       "\n",
       "                                          author_url    year  \\\n",
       "0  https://www.goodreads.com/author/show/153394.S...  2008.0   \n",
       "1  https://www.goodreads.com/author/show/1077326....  2003.0   \n",
       "2  https://www.goodreads.com/author/show/941441.S...  2005.0   \n",
       "3  https://www.goodreads.com/author/show/1825.Har...  1960.0   \n",
       "4  https://www.goodreads.com/author/show/1265.Jan...  1813.0   \n",
       "\n",
       "                                          genre_urls  \\\n",
       "0  /genres/young-adult|/genres/science-fiction|/g...   \n",
       "1  /genres/fantasy|/genres/young-adult|/genres/fi...   \n",
       "2  /genres/young-adult|/genres/fantasy|/genres/ro...   \n",
       "3  /genres/classics|/genres/fiction|/genres/histo...   \n",
       "4  /genres/classics|/genres/fiction|/genres/roman...   \n",
       "\n",
       "                                                 dir rating_count  \\\n",
       "0                dir01/2767052-the-hunger-games.html      2958974   \n",
       "1  dir01/2.Harry_Potter_and_the_Order_of_the_Phoe...      1284478   \n",
       "2                          dir01/41865.Twilight.html      2579564   \n",
       "3              dir01/2657.To_Kill_a_Mockingbird.html      2078123   \n",
       "4                dir01/1885.Pride_and_Prejudice.html      1388992   \n",
       "\n",
       "                                                name  \\\n",
       "0            The Hunger Games (The Hunger Games, #1)   \n",
       "1  Harry Potter and the Order of the Phoenix (Har...   \n",
       "2                            Twilight (Twilight, #1)   \n",
       "3                              To Kill a Mockingbird   \n",
       "4                                Pride and Prejudice   \n",
       "\n",
       "                                              genres           author  \n",
       "0  young-adult|science-fiction|dystopia|fantasy|s...  Suzanne_Collins  \n",
       "1  fantasy|young-adult|fiction|fantasy|magic|chil...      J_K_Rowling  \n",
       "2  young-adult|fantasy|romance|paranormal|vampire...  Stephenie_Meyer  \n",
       "3  classics|fiction|historical-fiction|academic|s...       Harper_Lee  \n",
       "4  classics|fiction|romance|historical-fiction|li...      Jane_Austen  "
      ]
     },
     "execution_count": 126,
     "metadata": {},
     "output_type": "execute_result"
    }
   ],
   "source": [
    "new_df.head()"
   ]
  },
  {
   "cell_type": "code",
   "execution_count": 125,
   "metadata": {
    "collapsed": true
   },
   "outputs": [],
   "source": [
    "author = [ url.split('.')[-1] for url in goodreads_df.author_url]\n",
    "genres = [{'index':index,'genres':url.replace('/genres/','')} for url,index in zip(goodreads_df.genre_urls,range(len(goodreads_df))) if type(url)==str]\n",
    "genres_df = pd.DataFrame(genres)\n",
    "goodreads_df['index'] = range(len(goodreads_df))\n",
    "new_df = pd.merge(goodreads_df,genres_df,on='index',how='outer')\n",
    "new_df['author'] = author\n",
    "del new_df['index']"
   ]
  },
  {
   "cell_type": "code",
   "execution_count": 149,
   "metadata": {},
   "outputs": [
    {
     "data": {
      "text/html": [
       "<div>\n",
       "<style>\n",
       "    .dataframe thead tr:only-child th {\n",
       "        text-align: right;\n",
       "    }\n",
       "\n",
       "    .dataframe thead th {\n",
       "        text-align: left;\n",
       "    }\n",
       "\n",
       "    .dataframe tbody tr th {\n",
       "        vertical-align: top;\n",
       "    }\n",
       "</style>\n",
       "<table border=\"1\" class=\"dataframe\">\n",
       "  <thead>\n",
       "    <tr style=\"text-align: right;\">\n",
       "      <th></th>\n",
       "      <th>rating</th>\n",
       "      <th>review_count</th>\n",
       "      <th>isbn</th>\n",
       "      <th>booktype</th>\n",
       "      <th>author_url</th>\n",
       "      <th>year</th>\n",
       "      <th>genre_urls</th>\n",
       "      <th>dir</th>\n",
       "      <th>rating_count</th>\n",
       "      <th>name</th>\n",
       "      <th>genres</th>\n",
       "      <th>author</th>\n",
       "    </tr>\n",
       "  </thead>\n",
       "  <tbody>\n",
       "    <tr>\n",
       "      <th>0</th>\n",
       "      <td>4.40</td>\n",
       "      <td>136455</td>\n",
       "      <td>0439023483</td>\n",
       "      <td>good_reads:book</td>\n",
       "      <td>https://www.goodreads.com/author/show/153394.S...</td>\n",
       "      <td>2008.0</td>\n",
       "      <td>/genres/young-adult|/genres/science-fiction|/g...</td>\n",
       "      <td>dir01/2767052-the-hunger-games.html</td>\n",
       "      <td>2958974</td>\n",
       "      <td>The Hunger Games (The Hunger Games, #1)</td>\n",
       "      <td>young-adult|science-fiction|dystopia|fantasy|s...</td>\n",
       "      <td>Suzanne_Collins</td>\n",
       "    </tr>\n",
       "    <tr>\n",
       "      <th>1</th>\n",
       "      <td>4.41</td>\n",
       "      <td>16648</td>\n",
       "      <td>0439358078</td>\n",
       "      <td>good_reads:book</td>\n",
       "      <td>https://www.goodreads.com/author/show/1077326....</td>\n",
       "      <td>2003.0</td>\n",
       "      <td>/genres/fantasy|/genres/young-adult|/genres/fi...</td>\n",
       "      <td>dir01/2.Harry_Potter_and_the_Order_of_the_Phoe...</td>\n",
       "      <td>1284478</td>\n",
       "      <td>Harry Potter and the Order of the Phoenix (Har...</td>\n",
       "      <td>fantasy|young-adult|fiction|fantasy|magic|chil...</td>\n",
       "      <td>J_K_Rowling</td>\n",
       "    </tr>\n",
       "    <tr>\n",
       "      <th>2</th>\n",
       "      <td>3.56</td>\n",
       "      <td>85746</td>\n",
       "      <td>0316015849</td>\n",
       "      <td>good_reads:book</td>\n",
       "      <td>https://www.goodreads.com/author/show/941441.S...</td>\n",
       "      <td>2005.0</td>\n",
       "      <td>/genres/young-adult|/genres/fantasy|/genres/ro...</td>\n",
       "      <td>dir01/41865.Twilight.html</td>\n",
       "      <td>2579564</td>\n",
       "      <td>Twilight (Twilight, #1)</td>\n",
       "      <td>young-adult|fantasy|romance|paranormal|vampire...</td>\n",
       "      <td>Stephenie_Meyer</td>\n",
       "    </tr>\n",
       "    <tr>\n",
       "      <th>3</th>\n",
       "      <td>4.23</td>\n",
       "      <td>47906</td>\n",
       "      <td>0061120081</td>\n",
       "      <td>good_reads:book</td>\n",
       "      <td>https://www.goodreads.com/author/show/1825.Har...</td>\n",
       "      <td>1960.0</td>\n",
       "      <td>/genres/classics|/genres/fiction|/genres/histo...</td>\n",
       "      <td>dir01/2657.To_Kill_a_Mockingbird.html</td>\n",
       "      <td>2078123</td>\n",
       "      <td>To Kill a Mockingbird</td>\n",
       "      <td>classics|fiction|historical-fiction|academic|s...</td>\n",
       "      <td>Harper_Lee</td>\n",
       "    </tr>\n",
       "    <tr>\n",
       "      <th>4</th>\n",
       "      <td>4.23</td>\n",
       "      <td>34772</td>\n",
       "      <td>0679783261</td>\n",
       "      <td>good_reads:book</td>\n",
       "      <td>https://www.goodreads.com/author/show/1265.Jan...</td>\n",
       "      <td>1813.0</td>\n",
       "      <td>/genres/classics|/genres/fiction|/genres/roman...</td>\n",
       "      <td>dir01/1885.Pride_and_Prejudice.html</td>\n",
       "      <td>1388992</td>\n",
       "      <td>Pride and Prejudice</td>\n",
       "      <td>classics|fiction|romance|historical-fiction|li...</td>\n",
       "      <td>Jane_Austen</td>\n",
       "    </tr>\n",
       "  </tbody>\n",
       "</table>\n",
       "</div>"
      ],
      "text/plain": [
       "   rating review_count        isbn         booktype  \\\n",
       "0    4.40       136455  0439023483  good_reads:book   \n",
       "1    4.41        16648  0439358078  good_reads:book   \n",
       "2    3.56        85746  0316015849  good_reads:book   \n",
       "3    4.23        47906  0061120081  good_reads:book   \n",
       "4    4.23        34772  0679783261  good_reads:book   \n",
       "\n",
       "                                          author_url    year  \\\n",
       "0  https://www.goodreads.com/author/show/153394.S...  2008.0   \n",
       "1  https://www.goodreads.com/author/show/1077326....  2003.0   \n",
       "2  https://www.goodreads.com/author/show/941441.S...  2005.0   \n",
       "3  https://www.goodreads.com/author/show/1825.Har...  1960.0   \n",
       "4  https://www.goodreads.com/author/show/1265.Jan...  1813.0   \n",
       "\n",
       "                                          genre_urls  \\\n",
       "0  /genres/young-adult|/genres/science-fiction|/g...   \n",
       "1  /genres/fantasy|/genres/young-adult|/genres/fi...   \n",
       "2  /genres/young-adult|/genres/fantasy|/genres/ro...   \n",
       "3  /genres/classics|/genres/fiction|/genres/histo...   \n",
       "4  /genres/classics|/genres/fiction|/genres/roman...   \n",
       "\n",
       "                                                 dir rating_count  \\\n",
       "0                dir01/2767052-the-hunger-games.html      2958974   \n",
       "1  dir01/2.Harry_Potter_and_the_Order_of_the_Phoe...      1284478   \n",
       "2                          dir01/41865.Twilight.html      2579564   \n",
       "3              dir01/2657.To_Kill_a_Mockingbird.html      2078123   \n",
       "4                dir01/1885.Pride_and_Prejudice.html      1388992   \n",
       "\n",
       "                                                name  \\\n",
       "0            The Hunger Games (The Hunger Games, #1)   \n",
       "1  Harry Potter and the Order of the Phoenix (Har...   \n",
       "2                            Twilight (Twilight, #1)   \n",
       "3                              To Kill a Mockingbird   \n",
       "4                                Pride and Prejudice   \n",
       "\n",
       "                                              genres           author  \n",
       "0  young-adult|science-fiction|dystopia|fantasy|s...  Suzanne_Collins  \n",
       "1  fantasy|young-adult|fiction|fantasy|magic|chil...      J_K_Rowling  \n",
       "2  young-adult|fantasy|romance|paranormal|vampire...  Stephenie_Meyer  \n",
       "3  classics|fiction|historical-fiction|academic|s...       Harper_Lee  \n",
       "4  classics|fiction|romance|historical-fiction|li...      Jane_Austen  "
      ]
     },
     "execution_count": 149,
     "metadata": {},
     "output_type": "execute_result"
    }
   ],
   "source": [
    "new_df.head()"
   ]
  },
  {
   "cell_type": "markdown",
   "metadata": {},
   "source": [
    "## Part 4: EDA \n",
    "Before proceeding any further, get to know the dataset using a few \"global property\" visualizations, illustrating histograms with both linear and log scales. Do you find anything interesting or strange? \n",
    "\n",
    "\n",
    "[10 minutes]\n",
    "\n",
    "---"
   ]
  },
  {
   "cell_type": "code",
   "execution_count": 221,
   "metadata": {},
   "outputs": [
    {
     "data": {
      "text/plain": [
       "<matplotlib.text.Text at 0x208f43bb860>"
      ]
     },
     "execution_count": 221,
     "metadata": {},
     "output_type": "execute_result"
    },
    {
     "data": {
      "image/png": "[encoded data removed]",
      "text/plain": [
       "<matplotlib.figure.Figure at 0x208f467d0b8>"
      ]
     },
     "metadata": {},
     "output_type": "display_data"
    }
   ],
   "source": [
    "new_df['review_count'].dropna(inplace=True) \n",
    "new_df.review_count = new_df.review_count.astype(int)# hist()\n",
    "new_df.review_count.hist()\n",
    "plt.xlabel('Review counts')\n",
    "plt.ylabel('Frequency')"
   ]
  },
  {
   "cell_type": "code",
   "execution_count": null,
   "metadata": {
    "collapsed": true
   },
   "outputs": [],
   "source": [
    "new_df.head()"
   ]
  },
  {
   "cell_type": "markdown",
   "metadata": {},
   "source": [
    "\n",
    "## Part 5:  Determining the Best Books \n",
    "\n",
    "This is an example of an analysis of the \"grouped property\" type.\n",
    "\n",
    "Think of some reasonable definitions of what it could mean to be a \"best book.\" (After all, these are all the best books according to Goodreads)\n",
    "\n",
    "[5 minutes] \n",
    "\n",
    "---"
   ]
  },
  {
   "cell_type": "markdown",
   "metadata": {},
   "source": [
    "## Part 6:  Trends in Popularity of Genres \n",
    "\n",
    "This is an example of an analysis of the \"grouped property\" type.\n",
    "\n",
    "There are a lot of questions you could ask about genres.\n",
    "* Which genre is currently the most popular?\n",
    "* Better, based on our data, what draw conclusions can you draw about the time evolution of the popularity of each genre?\n",
    "\n",
    "[15 minutes]\n",
    "\n",
    "---"
   ]
  },
  {
   "cell_type": "markdown",
   "metadata": {},
   "source": [
    "### Part 6.1: What can you conclude from the above visualizations?\n",
    "Pick two or three genres and describe how the popularity of these genres fluctuates with time.  "
   ]
  },
  {
   "cell_type": "code",
   "execution_count": null,
   "metadata": {
    "collapsed": true
   },
   "outputs": [],
   "source": []
  }
 ],
 "metadata": {
  "anaconda-cloud": {},
  "kernelspec": {
   "display_name": "Python 3",
   "language": "python",
   "name": "python3"
  },
  "language_info": {
   "codemirror_mode": {
    "name": "ipython",
    "version": 3
   },
   "file_extension": ".py",
   "mimetype": "text/x-python",
   "name": "python",
   "nbconvert_exporter": "python",
   "pygments_lexer": "ipython3",
   "version": "3.6.1"
  }
 },
 "nbformat": 4,
 "nbformat_minor": 1
}
